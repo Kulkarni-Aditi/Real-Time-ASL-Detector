{
 "cells": [
  {
   "cell_type": "code",
   "execution_count": 7,
   "metadata": {},
   "outputs": [],
   "source": [
    "import cv2\n",
    "import numpy as np\n",
    "from keras import models\n",
    "MODEL_NAME = \"mnist_asl_v2.h5\"\n",
    "\n",
    "model = models.load_model(MODEL_NAME)\n",
    "camera = cv2.VideoCapture(0)\n",
    "\n",
    "while True:\n",
    "    ret, img = camera.read()\n",
    "\n",
    "    cv2.rectangle(img, (350, 100), (100, 350), (255, 0, 0), 2)\n",
    "    cropped = img[100:300, 150:350]\n",
    "   \n",
    "    cv2.imshow(\"Region of interest\",cropped)\n",
    "    resized = (cv2.cvtColor(cv2.resize(cropped, (28, 28)), cv2.COLOR_RGB2GRAY)) / 255.0\n",
    "    cv2.imshow(\"Region of interest2\",resized)\n",
    "    data = resized.reshape(-1, 28, 28, 1)\n",
    "    \n",
    "    predictions = model.predict_classes(data)[0]\n",
    "    if(predictions >= 9):\n",
    "        predictions+= 1\n",
    "   \n",
    "    font=cv2.FONT_HERSHEY_SIMPLEX\n",
    "    cv2.putText(img,chr(65+predictions),(0,130),font,5,(0,0,255),2)\n",
    "    \n",
    "\n",
    "\n",
    "    cv2.imshow('img', img)\n",
    "\n",
    "\n",
    "    if cv2.waitKey(25) & 0xFF == ord('q'):\n",
    "        cv2.destroyAllWindows()\n",
    "        break\n",
    "\n",
    "camera.release()"
   ]
  },
  {
   "cell_type": "code",
   "execution_count": null,
   "metadata": {},
   "outputs": [],
   "source": []
  }
 ],
 "metadata": {
  "kernelspec": {
   "display_name": "tf-ibm",
   "language": "python",
   "name": "tf-ibm"
  },
  "language_info": {
   "codemirror_mode": {
    "name": "ipython",
    "version": 3
   },
   "file_extension": ".py",
   "mimetype": "text/x-python",
   "name": "python",
   "nbconvert_exporter": "python",
   "pygments_lexer": "ipython3",
   "version": "3.7.9"
  }
 },
 "nbformat": 4,
 "nbformat_minor": 4
}
